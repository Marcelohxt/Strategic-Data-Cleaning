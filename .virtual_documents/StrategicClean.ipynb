# !pip install -q plotly numpy pandas watermark missingno category_encoders xlrd 



#!pip install openpyxl


# Versão da Linguagem Python
from platform import python_version
print('Versão da Linguagem Python Usada Neste Jupyter Notebook:', python_version())


#import math  # Biblioteca padrão do Python para funções matemáticas (ex: sqrt, sin, cos, log)

#import sys, os  # 'sys' fornece acesso a variáveis do sistema e funções do interpretador Python
                # 'os' permite interagir com o sistema operacional (ex: manipular arquivos e diretórios)

#import numpy as np  # NumPy: Biblioteca para cálculos numéricos e manipulação de arrays multidimensionais

#import pandas as pd  # Pandas: Biblioteca para manipulação e análise de dados, especialmente tabelas (DataFrames)


# Imports
import math
import sys, os
import numpy as np
import pandas as pd
import openpyxl 



# Vamos adicionar caminho para os módulos Python

sys.path.append(os.path.abspath(os.path.join('modulos')))
from estrategia1 import * # o Asteriscos importa tudo que estra dentro no Modulo! 
from estrategia2 import * # o Asteriscos importa tudo que estra dentro no Modulo! 
from estrategia3 import * # o Asteriscos importa tudo que estra dentro no Modulo! 
from openpyxl import load_workbook

# aqui é um modulo ja configurado em Pthyton com 3 estrategias de tratamento de dados, que podemos usalos em outros projetos e tambem complemente-los 
# Isso ira facilitar nosso processo e acelerar mais nosso processo de analise! 


# Configura o Pandas para exibir até 100 colunas ao imprimir um DataFrame.
# Útil quando trabalhamos com tabelas grandes, evitando que colunas fiquem ocultas com "...".

pd.set_option('display.max_columns',100) 





# Criamos uma lista para identificar valores ausentes
lista_labels_valores_ausentes = ["n/a", "na", "undefined"]


# Carrega o dataset
# Carrega o arquivo CSV localizado em "dados/dataset.csv" em um DataFrame chamado 'dataset'.
# Durante a leitura do arquivo, os valores especificados em 'lista_labels_valores_ausentes' 
# serão tratados como valores ausentes (NaN). Isso permite que o pandas reconheça e trate 
# adequadamente valores como 'NA', 'null', ou 'indisponível' como ausentes no DataFrame.
dataset = pd.read_csv("dados/dataset.csv", na_values = lista_labels_valores_ausentes)


# Shape
dataset.shape


# amostra de Dados 

dataset.head()


dicionario = pd.read_excel("dados/Dicionario.xlsx")


dicionario.shape


dicionario.head()





dataset.info()


dataset.describe() # ele calcula as estatisca para nos DETALHE ELE SO OLHA PARA AS COLUNAS INT OU FLOAT OU SEJA NUMERICAS





dataset.shape


dicionario.shape





# Concatena duas séries de dados lado a lado (axis=1) para comparar as colunas do dataset com os campos do dicionário.
# A primeira série contém a lista de nomes das colunas do DataFrame 'dataset', obtida com dataset.columns.tolist().
# A segunda série contém os valores da coluna 'Fields' do DataFrame 'dicionario', que provavelmente tem os nomes dos campos esperados.
# O resultado é armazenado em 'df_compara_colunas', que terá duas colunas: uma com os nomes das colunas do dataset e outra com os campos do dicionário.
df_compara_colunas = pd.concat([pd.Series(dataset.columns.tolist()), 
                                dicionario['Fields']], 
                               axis = 1)


# Renomeia as colunas do DataFrame 'df_compara_colunas' para melhorar a legibilidade.
# O método 'rename' é utilizado para alterar os nomes das colunas.
# O parâmetro 'columns' recebe um dicionário onde:
#   - A chave '0' se refere à primeira coluna do DataFrame, que originalmente tem índice 0 e será renomeada para 'Coluna no Dataset'.
#   - A chave 'Fields' se refere à coluna 'Fields' do DataFrame, que será renomeada para 'Coluna no Dicionario'.
# O parâmetro 'inplace=True' garante que a renomeação seja feita diretamente no DataFrame original, sem a necessidade de criar uma nova variável.
df_compara_colunas.rename(columns = {0: 'Coluna no Dataset', 'Fields': 'Coluna no Dicionario'}, 
                          inplace = True)


df_compara_colunas





# Romenando Colunas 

dataset.rename(columns = { 'Dur. (ms)' : 'Dur (s)' ,
                          'Dur. (ms).1' : 'Dur (ms)',
                          'Star ms' : 'Start Offset (ms)',
                          'End ms' : 'End offset (ms)'},
               inplace = True)


# Lista de colunas do Dataset

dataset.columns.tolist(0



