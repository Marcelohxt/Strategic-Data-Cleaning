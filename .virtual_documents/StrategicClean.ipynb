!pip install -q plotly numpy pandas watermark missingno category_encoders xlrd 



!pip install openpyxl


# Versão da Linguagem Python
from platform import python_version
print('Versão da Linguagem Python Usada Neste Jupyter Notebook:', python_version())


#import math  # Biblioteca padrão do Python para funções matemáticas (ex: sqrt, sin, cos, log)

#import sys, os  # 'sys' fornece acesso a variáveis do sistema e funções do interpretador Python
                # 'os' permite interagir com o sistema operacional (ex: manipular arquivos e diretórios)

#import numpy as np  # NumPy: Biblioteca para cálculos numéricos e manipulação de arrays multidimensionais

#import pandas as pd  # Pandas: Biblioteca para manipulação e análise de dados, especialmente tabelas (DataFrames)


# Imports
import math
import sys, os
import numpy as np
import pandas as pd

print(sys.executable)


# Vamos adicionar caminho para os módulos Python

sys.path.append(os.path.abspath(os.path.join('modulos')))
from estrategia1 import * # o Asteriscos importa tudo que estra dentro no Modulo! 
from estrategia2 import * # o Asteriscos importa tudo que estra dentro no Modulo! 
from estrategia3 import * # o Asteriscos importa tudo que estra dentro no Modulo! 
from openpyxl import load_workbook

# aqui é um modulo ja configurado em Pthyton com 3 estrategias de tratamento de dados, que podemos usalos em outros projetos e tambem complemente-los 
# Isso ira facilitar nosso processo e acelerar mais nosso processo de analise! 


# Configura o Pandas para exibir até 100 colunas ao imprimir um DataFrame.
# Útil quando trabalhamos com tabelas grandes, evitando que colunas fiquem ocultas com "...".

pd.set_option('display.max_columns',100) 





# Criamos uma lista para identificar valores ausentes
lista_labels_valores_ausentes = ["n/a", "na", "undefined"]


# Carrega o dataset
dataset = pd.read_csv("dados/dataset.csv", na_values = lista_labels_valores_ausentes)


# Shape
dataset.shape


# amostra de Dados 

dataset.head()


dicionario = pd.read_excel("dados/Dicionario.xlsx")



